{
 "cells": [
  {
   "cell_type": "code",
   "execution_count": 5,
   "id": "fa8fbc8b-8bbc-4125-b585-4f4a813a601e",
   "metadata": {},
   "outputs": [],
   "source": [
    "import re\n",
    "import os\n",
    "import requests\n",
    "from typing import List,Optional\n",
    "from langchain_community.vectorstores import FAISS\n",
    "from langchain_community.document_loaders import BSHTMLLoader\n",
    "from langchain_core.pydantic_v1 import BaseModel,Field\n",
    "from langchain_core.prompts import ChatPromptTemplate,MessagesPlaceholder\n",
    "from langchain_text_splitters import TokenTextSplitter\n",
    "from langchain_core.documents import Document\n",
    "from langchain_core.runnables import RunnableLambda\n",
    "from langchain_text_splitters import CharacterTextSplitter\n",
    "from langchain_groq import ChatGroq"
   ]
  },
  {
   "cell_type": "code",
   "execution_count": 6,
   "id": "c5ffee99-ca23-4351-baa6-9628f8516cd6",
   "metadata": {},
   "outputs": [],
   "source": [
    "groq_api_key = os.environ.get(\"GROQ_API_KEY\")"
   ]
  },
  {
   "cell_type": "code",
   "execution_count": 15,
   "id": "0110921e-6031-4613-bbd4-67a4c4845268",
   "metadata": {},
   "outputs": [],
   "source": [
    "# Download the content\n",
    "from langchain_community.document_loaders import BSHTMLLoader\n",
    "# https://en.wikipedia.org/wiki/Constitution_of_India\n",
    "response = requests.get(\"https://en.wikipedia.org/wiki/Car\")\n",
    "# Write it to a file\n",
    "with open(\"car.html\", \"w\", encoding=\"utf-8\") as f:\n",
    "    f.write(response.text)\n",
    "# Load it with an HTML parser\n",
    "loader = BSHTMLLoader(\"car.html\",open_encoding=\"utf-8\")\n",
    "document = loader.load()[0]\n",
    "# Clean up code\n",
    "# Replace consecutive new lines with a single new line\n",
    "document.page_content = re.sub(\"\\n\\n+\", \"\\n\", document.page_content)"
   ]
  },
  {
   "cell_type": "code",
   "execution_count": 16,
   "id": "5c3d6b5e-409a-48cd-978a-86e22cea44bd",
   "metadata": {},
   "outputs": [
    {
     "name": "stdout",
     "output_type": "stream",
     "text": [
      "79227\n"
     ]
    }
   ],
   "source": [
    "print(len(document.page_content))"
   ]
  },
  {
   "cell_type": "code",
   "execution_count": 18,
   "id": "aac69c8e-63ae-4d5c-9c5a-d4a88408e4d1",
   "metadata": {},
   "outputs": [],
   "source": [
    "class KeyDevelopment(BaseModel):\n",
    "    \"\"\"Information about a development in the history of cars.\"\"\"\n",
    "    year: int = Field(\n",
    "        ..., description=\"The year when there was an important historic development.\")\n",
    "    description: str = Field(\n",
    "        ..., description=\"What happened in this year? What was the development?\"\n",
    "    )\n",
    "    evidence: str = Field(\n",
    "        ...,\n",
    "        description=\"Repeat in verbatim the sentence(s) from which the year and description information were extracted\",\n",
    "    )\n",
    "\n",
    "class ExtractionData(BaseModel):\n",
    "    \"\"\"Extracted information about key developments in the history of cars.\"\"\"\n",
    "\n",
    "    key_developments: List[KeyDevelopment]"
   ]
  },
  {
   "cell_type": "code",
   "execution_count": 19,
   "id": "8b0ad253-43a2-485f-8ac3-fd7982e5d3cc",
   "metadata": {},
   "outputs": [],
   "source": [
    "prompt = ChatPromptTemplate.from_messages(\n",
    "    [\n",
    "        (\n",
    "            \"system\",\n",
    "            \"You are an expert at identifying key historic development in text. \"\n",
    "            \"Only extract important historic developments. Extract nothing if no important information can be found in the text.\",\n",
    "        ),\n",
    "        (\"human\", \"{text}\"),\n",
    "    ]\n",
    ")"
   ]
  },
  {
   "cell_type": "code",
   "execution_count": 20,
   "id": "1aa29770-d6cd-4b2c-940e-976b40c9d5b7",
   "metadata": {},
   "outputs": [],
   "source": [
    "llm = ChatGroq(model = \"llama3-8b-8192\", max_tokens=500)"
   ]
  },
  {
   "cell_type": "code",
   "execution_count": 21,
   "id": "437168eb-20c2-4bb2-ad9b-702d53acf87a",
   "metadata": {},
   "outputs": [],
   "source": [
    "extractor = prompt | llm.with_structured_output(schema=ExtractionData,\n",
    "                                                include_raw=False)"
   ]
  },
  {
   "cell_type": "code",
   "execution_count": 22,
   "id": "46ab1a7f-fd14-42ae-8af8-7ae3f6c2cd59",
   "metadata": {},
   "outputs": [],
   "source": [
    "text_spliter = TokenTextSplitter(chunk_size = 2000, chunk_overlap=50)\n",
    "texts = text_spliter.split_text(document.page_content)"
   ]
  },
  {
   "cell_type": "code",
   "execution_count": 23,
   "id": "6435bbb5-adae-43d9-b7f7-dd4b6aa9c401",
   "metadata": {},
   "outputs": [],
   "source": [
    "first_few = texts[:3]\n",
    "extractions = extractor.batch([{\"text\" : text} for text in first_few],\n",
    "                              {\"max_concurrency\": 5},)"
   ]
  },
  {
   "cell_type": "code",
   "execution_count": 24,
   "id": "caa73220-5ddc-4a47-ad7f-912be0bb5f5c",
   "metadata": {},
   "outputs": [
    {
     "data": {
      "text/plain": [
       "[KeyDevelopment(year=1966, description='Toyota Corolla', evidence='Best-selling series of automobile in history'),\n",
       " KeyDevelopment(year=1885, description='The original Benz Patent-Motorwagen was the first modern car, built in 1885 and awarded the patent for the concept.', evidence='It was a groundbreaking achievement in the history of cars.'),\n",
       " KeyDevelopment(year=1888, description='Bertha Benz, the first long distance driver, drove the Benz Patent-Motorwagen over a distance of 65 kilometers.', evidence='This was a significant milestone in the development of cars.'),\n",
       " KeyDevelopment(year=1886, description='Gottlieb Daimler and Wilhelm Maybach worked at the Daimler Motoren Gesellschaft in Stuttgart.', evidence='They were pioneers in the automotive industry.'),\n",
       " KeyDevelopment(year=1893, description='The first running, petrol-driven American car was built and road-tested by the Duryea brothers of Springfield, Massachusetts.', evidence='21 September 1893, on Taylor Street in Metro Center Springfield.'),\n",
       " KeyDevelopment(year=1897, description='The first production vehicles in Great Britain came from the Daimler Company, a company founded by Harry J. Lawson in 1896.', evidence=''),\n",
       " KeyDevelopment(year=1897, description='Ransom Olds founded Oldsmobile in 1897.', evidence='')]"
      ]
     },
     "execution_count": 24,
     "metadata": {},
     "output_type": "execute_result"
    }
   ],
   "source": [
    "key_developments = []\n",
    "\n",
    "for extraction in extractions:\n",
    "    key_developments.extend(extraction.key_developments)\n",
    "\n",
    "key_developments[:10]"
   ]
  },
  {
   "cell_type": "code",
   "execution_count": 26,
   "id": "ed0b2ae1-373e-4a7a-9473-106e8697ef87",
   "metadata": {},
   "outputs": [],
   "source": [
    "text_spliter = TokenTextSplitter(chunk_size = 2000, chunk_overlap=50)\n",
    "texts = text_spliter.split_text(document.page_content)"
   ]
  },
  {
   "cell_type": "code",
   "execution_count": 29,
   "id": "7228e3a5-fbdf-46cb-9b80-52369c6f0b34",
   "metadata": {},
   "outputs": [],
   "source": [
    "from langchain_community.embeddings import GPT4AllEmbeddings\n",
    "vectorstore = FAISS.from_texts(texts, embedding=GPT4AllEmbeddings())\n",
    "retriever = vectorstore.as_retriever(\n",
    "    search_kwargs={\"k\": 1}\n",
    ") "
   ]
  },
  {
   "cell_type": "code",
   "execution_count": 30,
   "id": "f7ee8b7d-e579-43bf-b218-e139d6e119ad",
   "metadata": {},
   "outputs": [],
   "source": [
    "rag_extractor = {\"text\": retriever | (lambda docs: docs[0].page_content)} | extractor"
   ]
  },
  {
   "cell_type": "code",
   "execution_count": 31,
   "id": "d0119d96-bc79-4f64-854b-62c9340250e1",
   "metadata": {},
   "outputs": [],
   "source": [
    "results = rag_extractor.invoke(\"Key developments associated with cars\")"
   ]
  },
  {
   "cell_type": "code",
   "execution_count": 32,
   "id": "4ea21860-641a-4487-aec0-6b77d21046d5",
   "metadata": {},
   "outputs": [
    {
     "name": "stdout",
     "output_type": "stream",
     "text": [
      "year=1869 description='The rise of cars as a major cause of injury-related deaths worldwide.' evidence='Traffic collisions are the largest cause of injury-related deaths worldwide.[10]'\n",
      "year=2020 description='The introduction of electric cars' evidence='Many governments use fiscal policies, such as road tax, to discourage the purchase and use of more polluting cars;'\n"
     ]
    }
   ],
   "source": [
    "for key_development in results.key_developments:\n",
    "    print(key_development)"
   ]
  }
 ],
 "metadata": {
  "kernelspec": {
   "display_name": "Python 3 (ipykernel)",
   "language": "python",
   "name": "python3"
  },
  "language_info": {
   "codemirror_mode": {
    "name": "ipython",
    "version": 3
   },
   "file_extension": ".py",
   "mimetype": "text/x-python",
   "name": "python",
   "nbconvert_exporter": "python",
   "pygments_lexer": "ipython3",
   "version": "3.11.7"
  }
 },
 "nbformat": 4,
 "nbformat_minor": 5
}
